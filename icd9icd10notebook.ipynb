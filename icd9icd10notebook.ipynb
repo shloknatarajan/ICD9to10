{
 "cells": [
  {
   "cell_type": "code",
   "execution_count": 17,
   "id": "9da62f46",
   "metadata": {},
   "outputs": [],
   "source": [
    "import requests\n",
    "from bs4 import BeautifulSoup"
   ]
  },
  {
   "cell_type": "code",
   "execution_count": 53,
   "id": "7e40a559",
   "metadata": {},
   "outputs": [],
   "source": [
    "icd9_code = \"00.01\"\n",
    "base_url = \"https://www.icd10data.com/Convert/\""
   ]
  },
  {
   "cell_type": "code",
   "execution_count": 54,
   "id": "3d9eb0b3",
   "metadata": {},
   "outputs": [],
   "source": [
    "response = requests.get(base_url + icd9_code)"
   ]
  },
  {
   "cell_type": "code",
   "execution_count": 55,
   "id": "58339b46",
   "metadata": {},
   "outputs": [
    {
     "name": "stdout",
     "output_type": "stream",
     "text": [
      "<bound method Response.json of <Response [200]>>\n"
     ]
    }
   ],
   "source": [
    "print(response.json)"
   ]
  },
  {
   "cell_type": "code",
   "execution_count": 56,
   "id": "96818890",
   "metadata": {},
   "outputs": [],
   "source": [
    "soup = BeautifulSoup(response.content, 'html.parser')"
   ]
  },
  {
   "cell_type": "code",
   "execution_count": 57,
   "id": "d4dba6e0",
   "metadata": {},
   "outputs": [],
   "source": [
    "identifier_spans = soup.select(\".ulConversion .identifier\")"
   ]
  },
  {
   "cell_type": "code",
   "execution_count": 58,
   "id": "a4dfee17",
   "metadata": {},
   "outputs": [],
   "source": [
    "parsed_codes = [i.text for i in identifier_spans]"
   ]
  },
  {
   "cell_type": "code",
   "execution_count": 59,
   "id": "0f815582",
   "metadata": {},
   "outputs": [
    {
     "name": "stdout",
     "output_type": "stream",
     "text": [
      "['6A750Z4', '6A751Z4']\n"
     ]
    }
   ],
   "source": [
    "print(parsed_codes)"
   ]
  },
  {
   "cell_type": "code",
   "execution_count": null,
   "id": "dff601a0",
   "metadata": {},
   "outputs": [],
   "source": []
  }
 ],
 "metadata": {
  "kernelspec": {
   "display_name": "Python 3 (ipykernel)",
   "language": "python",
   "name": "python3"
  },
  "language_info": {
   "codemirror_mode": {
    "name": "ipython",
    "version": 3
   },
   "file_extension": ".py",
   "mimetype": "text/x-python",
   "name": "python",
   "nbconvert_exporter": "python",
   "pygments_lexer": "ipython3",
   "version": "3.9.7"
  }
 },
 "nbformat": 4,
 "nbformat_minor": 5
}
